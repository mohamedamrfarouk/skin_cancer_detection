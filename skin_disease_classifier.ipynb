{
  "nbformat": 4,
  "nbformat_minor": 0,
  "metadata": {
    "colab": {
      "name": "skin disease classifier.ipynb",
      "provenance": []
    },
    "kernelspec": {
      "name": "python3",
      "display_name": "Python 3"
    },
    "language_info": {
      "name": "python"
    },
    "accelerator": "GPU"
  },
  "cells": [
    {
      "cell_type": "markdown",
      "metadata": {
        "id": "ZvyZ2zz4hXML"
      },
      "source": [
        "# install important libraries and frameworks the we may use"
      ]
    },
    {
      "cell_type": "code",
      "metadata": {
        "colab": {
          "base_uri": "https://localhost:8080/"
        },
        "id": "5ekTcNqENEnK",
        "outputId": "21f6b625-423e-4417-9ed7-5aefb67f2439"
      },
      "source": [
        "!pip install opencv-contrib-python"
      ],
      "execution_count": null,
      "outputs": [
        {
          "output_type": "stream",
          "text": [
            "Requirement already satisfied: opencv-contrib-python in /usr/local/lib/python3.7/dist-packages (4.1.2.30)\n",
            "Requirement already satisfied: numpy>=1.14.5 in /usr/local/lib/python3.7/dist-packages (from opencv-contrib-python) (1.19.5)\n"
          ],
          "name": "stdout"
        }
      ]
    },
    {
      "cell_type": "markdown",
      "metadata": {
        "id": "dyBszPBsMP1T"
      },
      "source": [
        "## import any needed libraries"
      ]
    },
    {
      "cell_type": "code",
      "metadata": {
        "id": "vBhopugUJ3Zk"
      },
      "source": [
        "import os\n",
        "os.environ['TF_CPP_MIN_LOG_LEVEL'] = '3'\n",
        "import tensorflow as tf\n",
        "import zipfile\n",
        "from os import path, getcwd, chdir\n",
        "import PIL\n",
        "import PIL.Image\n",
        "from keras.models import load_model\n",
        "import h5py\n",
        "import pathlib\n",
        "import cv2\n",
        "import matplotlib.image as mpimg\n",
        "import matplotlib.pyplot as plt\n",
        "import os\n",
        "import zipfile\n",
        "import time\n",
        "from tensorflow.keras.optimizers import Adam\n",
        "from tensorflow.keras.losses import binary_crossentropy,sparse_categorical_crossentropy\n",
        "from tensorflow.keras.preprocessing.image import ImageDataGenerator\n",
        "import numpy as np\n",
        "import sklearn\n",
        "from tqdm import tqdm\n",
        "\n",
        "from tensorflow.keras.applications.inception_v3 import InceptionV3\n",
        "from tensorflow.keras.preprocessing import image\n",
        "from tensorflow.keras.models import Model\n",
        "from tensorflow.keras.layers import Dense, GlobalAveragePooling2D\n",
        "from tensorflow.keras import  layers"
      ],
      "execution_count": null,
      "outputs": []
    },
    {
      "cell_type": "markdown",
      "metadata": {
        "id": "W-FfINquL2EU"
      },
      "source": [
        "## Load data and unzip them"
      ]
    },
    {
      "cell_type": "code",
      "metadata": {
        "colab": {
          "base_uri": "https://localhost:8080/"
        },
        "id": "mUZVXvY9ME2Q",
        "outputId": "d45b1728-6b27-4938-d284-cb428b66acd5"
      },
      "source": [
        "from zipfile import ZipFile\n",
        "file_name = \"/content/rescaled data.zip\"\n",
        "\n",
        "with zipfile.ZipFile(file_name, 'r') as zip_ref:\n",
        "    zip_ref.extractall()\n",
        "    print('Done')\n"
      ],
      "execution_count": null,
      "outputs": [
        {
          "output_type": "stream",
          "text": [
            "Done\n"
          ],
          "name": "stdout"
        }
      ]
    },
    {
      "cell_type": "markdown",
      "metadata": {
        "id": "XWlZyNnsMOZU"
      },
      "source": [
        "\n",
        "\n",
        "---\n",
        "\n",
        "\n",
        "\n",
        "---\n",
        "\n"
      ]
    },
    {
      "cell_type": "code",
      "metadata": {
        "colab": {
          "base_uri": "https://localhost:8080/"
        },
        "id": "pv6nGOB5vxNF",
        "outputId": "2991b955-4cec-4273-bf52-ae18b9b4a5ca"
      },
      "source": [
        "\n",
        "base_dir ='/content/rescaled data/'\n",
        "\n",
        "train_dir = os.path.join(base_dir,'train')\n",
        "validation_dir = os.path.join(base_dir,'valid')\n",
        "\n",
        "train_melanoma_dir = os.path.join(train_dir,'melanoma')\n",
        "train_nevus_dir = os.path.join(train_dir,'nevus')\n",
        "train_seborrheic_keratosis_dir = os.path.join(train_dir,'seborrheic_keratosis')\n",
        "\n",
        "\n",
        "valid_melanoma_dir = os.path.join(validation_dir,'melanoma')\n",
        "valid_nevus_dir = os.path.join(validation_dir,'nevus')\n",
        "valid_seborrheic_keratosis_dir = os.path.join(validation_dir,'seborrheic_keratosis')\n",
        "\n",
        "\n",
        "num_melanoma_training = len(os.listdir(train_melanoma_dir))\n",
        "num_nevus_training = len(os.listdir(train_nevus_dir))\n",
        "num_seborrheic_keratosis_training = len(os.listdir(train_seborrheic_keratosis_dir))\n",
        "\n",
        "\n",
        "num_melanoma_valid= len(os.listdir(valid_melanoma_dir))\n",
        "num_nevus_valid = len(os.listdir(valid_nevus_dir))\n",
        "num_seborrheic_keratosis_valid = len(os.listdir(valid_seborrheic_keratosis_dir))\n",
        "\n",
        "\n",
        "\n",
        "\n",
        "total_training = num_melanoma_training + num_nevus_training + num_seborrheic_keratosis_training\n",
        "total_validation = num_melanoma_valid + num_nevus_valid + num_seborrheic_keratosis_valid\n",
        "\n",
        "print('total training melanoma images:', num_melanoma_training)\n",
        "print('total training nevus images:', num_nevus_training)\n",
        "print('total training seborrheic keratosis images:', num_seborrheic_keratosis_training)\n",
        "print(\"--\")\n",
        "\n",
        "print('total validation melanoma images:', num_melanoma_valid)\n",
        "print('total validation nevus images:', num_nevus_valid)\n",
        "print('total validation seborrheic keratosis images:', num_seborrheic_keratosis_valid)\n",
        "print(\"--\")\n",
        "\n",
        "print(\"Total training images:\", total_training)\n",
        "print(\"Total validation images:\", total_validation)\n"
      ],
      "execution_count": null,
      "outputs": [
        {
          "output_type": "stream",
          "text": [
            "total training melanoma images: 374\n",
            "total training nevus images: 1372\n",
            "total training seborrheic keratosis images: 254\n",
            "--\n",
            "total validation melanoma images: 30\n",
            "total validation nevus images: 78\n",
            "total validation seborrheic keratosis images: 42\n",
            "--\n",
            "Total training images: 2000\n",
            "Total validation images: 150\n"
          ],
          "name": "stdout"
        }
      ]
    },
    {
      "cell_type": "code",
      "metadata": {
        "id": "Ue5wkBsDwMml"
      },
      "source": [
        "\n",
        "train_examples = total_training\n",
        "validation_examples = total_validation\n",
        "\n",
        "img_height = img_size =img_width = 150\n",
        "batch_size = 32\n",
        "\n",
        "\n",
        "# Create an instance of the inception model from the local pre-trained weights\n",
        "base_model = tf.keras.applications.Xception(input_shape=(150,150,3),\n",
        "    include_top=False,\n",
        "    weights=\"imagenet\"\n",
        ")\n",
        "\n",
        "# base_model.load_weights(local_weights_file)\n",
        "\n",
        "for layer in base_model.layers:\n",
        "    layer.trainable = True\n",
        "\n",
        "# # last_layer = base_model.get_layer('mixed7')\n",
        "# print('last layer output shape: ', last_layer.output_shape)\n",
        "last_output = base_model.output\n",
        "\n",
        "# Flatten the output layer to 1 dimension\n",
        "x = layers.Flatten()(last_output)\n",
        "# Add a fully connected layer with 1,024 hidden units and ReLU activation\n",
        "x = layers.Dense(1024,activation='relu')(x)\n",
        "# Add a dropout rate of 0.5\n",
        "x = layers.Dropout(0.5)(x)\n",
        "# Add a fully connected layer with 256 hidden units and ReLU activation\n",
        "x = layers.Dense(256,activation='relu')(x)\n",
        "# Add a dropout rate of 0.5\n",
        "x = layers.Dropout(0.5)(x)\n",
        "# Add a fully connected layer with 64 hidden units and ReLU activation\n",
        "x = layers.Dense(64,activation='relu')(x)\n",
        "# Add a dropout rate of 0.5\n",
        "x = layers.Dropout(0.5)(x)\n",
        "# Add a final softmax layer for classification\n",
        "x = layers.Dense(3, activation='softmax')(x)\n",
        "\n",
        "model = Model( base_model.input, x)\n"
      ],
      "execution_count": null,
      "outputs": []
    },
    {
      "cell_type": "code",
      "metadata": {
        "colab": {
          "base_uri": "https://localhost:8080/"
        },
        "id": "_msd492YyuW8",
        "outputId": "f206e004-0f72-4fd2-efc5-3ade17b35da4"
      },
      "source": [
        "model.compile(optimizer = tf.keras.optimizers.Adam(lr=0.00005),\n",
        "              loss = 'sparse_categorical_crossentropy',\n",
        "              metrics = [\"acc\"])\n",
        "\n",
        "model.summary()\n"
      ],
      "execution_count": null,
      "outputs": [
        {
          "output_type": "stream",
          "text": [
            "Model: \"model_2\"\n",
            "__________________________________________________________________________________________________\n",
            "Layer (type)                    Output Shape         Param #     Connected to                     \n",
            "==================================================================================================\n",
            "input_11 (InputLayer)           [(None, 150, 150, 3) 0                                            \n",
            "__________________________________________________________________________________________________\n",
            "block1_conv1 (Conv2D)           (None, 74, 74, 32)   864         input_11[0][0]                   \n",
            "__________________________________________________________________________________________________\n",
            "block1_conv1_bn (BatchNormaliza (None, 74, 74, 32)   128         block1_conv1[0][0]               \n",
            "__________________________________________________________________________________________________\n",
            "block1_conv1_act (Activation)   (None, 74, 74, 32)   0           block1_conv1_bn[0][0]            \n",
            "__________________________________________________________________________________________________\n",
            "block1_conv2 (Conv2D)           (None, 72, 72, 64)   18432       block1_conv1_act[0][0]           \n",
            "__________________________________________________________________________________________________\n",
            "block1_conv2_bn (BatchNormaliza (None, 72, 72, 64)   256         block1_conv2[0][0]               \n",
            "__________________________________________________________________________________________________\n",
            "block1_conv2_act (Activation)   (None, 72, 72, 64)   0           block1_conv2_bn[0][0]            \n",
            "__________________________________________________________________________________________________\n",
            "block2_sepconv1 (SeparableConv2 (None, 72, 72, 128)  8768        block1_conv2_act[0][0]           \n",
            "__________________________________________________________________________________________________\n",
            "block2_sepconv1_bn (BatchNormal (None, 72, 72, 128)  512         block2_sepconv1[0][0]            \n",
            "__________________________________________________________________________________________________\n",
            "block2_sepconv2_act (Activation (None, 72, 72, 128)  0           block2_sepconv1_bn[0][0]         \n",
            "__________________________________________________________________________________________________\n",
            "block2_sepconv2 (SeparableConv2 (None, 72, 72, 128)  17536       block2_sepconv2_act[0][0]        \n",
            "__________________________________________________________________________________________________\n",
            "block2_sepconv2_bn (BatchNormal (None, 72, 72, 128)  512         block2_sepconv2[0][0]            \n",
            "__________________________________________________________________________________________________\n",
            "conv2d_40 (Conv2D)              (None, 36, 36, 128)  8192        block1_conv2_act[0][0]           \n",
            "__________________________________________________________________________________________________\n",
            "block2_pool (MaxPooling2D)      (None, 36, 36, 128)  0           block2_sepconv2_bn[0][0]         \n",
            "__________________________________________________________________________________________________\n",
            "batch_normalization_40 (BatchNo (None, 36, 36, 128)  512         conv2d_40[0][0]                  \n",
            "__________________________________________________________________________________________________\n",
            "add_120 (Add)                   (None, 36, 36, 128)  0           block2_pool[0][0]                \n",
            "                                                                 batch_normalization_40[0][0]     \n",
            "__________________________________________________________________________________________________\n",
            "block3_sepconv1_act (Activation (None, 36, 36, 128)  0           add_120[0][0]                    \n",
            "__________________________________________________________________________________________________\n",
            "block3_sepconv1 (SeparableConv2 (None, 36, 36, 256)  33920       block3_sepconv1_act[0][0]        \n",
            "__________________________________________________________________________________________________\n",
            "block3_sepconv1_bn (BatchNormal (None, 36, 36, 256)  1024        block3_sepconv1[0][0]            \n",
            "__________________________________________________________________________________________________\n",
            "block3_sepconv2_act (Activation (None, 36, 36, 256)  0           block3_sepconv1_bn[0][0]         \n",
            "__________________________________________________________________________________________________\n",
            "block3_sepconv2 (SeparableConv2 (None, 36, 36, 256)  67840       block3_sepconv2_act[0][0]        \n",
            "__________________________________________________________________________________________________\n",
            "block3_sepconv2_bn (BatchNormal (None, 36, 36, 256)  1024        block3_sepconv2[0][0]            \n",
            "__________________________________________________________________________________________________\n",
            "conv2d_41 (Conv2D)              (None, 18, 18, 256)  32768       add_120[0][0]                    \n",
            "__________________________________________________________________________________________________\n",
            "block3_pool (MaxPooling2D)      (None, 18, 18, 256)  0           block3_sepconv2_bn[0][0]         \n",
            "__________________________________________________________________________________________________\n",
            "batch_normalization_41 (BatchNo (None, 18, 18, 256)  1024        conv2d_41[0][0]                  \n",
            "__________________________________________________________________________________________________\n",
            "add_121 (Add)                   (None, 18, 18, 256)  0           block3_pool[0][0]                \n",
            "                                                                 batch_normalization_41[0][0]     \n",
            "__________________________________________________________________________________________________\n",
            "block4_sepconv1_act (Activation (None, 18, 18, 256)  0           add_121[0][0]                    \n",
            "__________________________________________________________________________________________________\n",
            "block4_sepconv1 (SeparableConv2 (None, 18, 18, 728)  188672      block4_sepconv1_act[0][0]        \n",
            "__________________________________________________________________________________________________\n",
            "block4_sepconv1_bn (BatchNormal (None, 18, 18, 728)  2912        block4_sepconv1[0][0]            \n",
            "__________________________________________________________________________________________________\n",
            "block4_sepconv2_act (Activation (None, 18, 18, 728)  0           block4_sepconv1_bn[0][0]         \n",
            "__________________________________________________________________________________________________\n",
            "block4_sepconv2 (SeparableConv2 (None, 18, 18, 728)  536536      block4_sepconv2_act[0][0]        \n",
            "__________________________________________________________________________________________________\n",
            "block4_sepconv2_bn (BatchNormal (None, 18, 18, 728)  2912        block4_sepconv2[0][0]            \n",
            "__________________________________________________________________________________________________\n",
            "conv2d_42 (Conv2D)              (None, 9, 9, 728)    186368      add_121[0][0]                    \n",
            "__________________________________________________________________________________________________\n",
            "block4_pool (MaxPooling2D)      (None, 9, 9, 728)    0           block4_sepconv2_bn[0][0]         \n",
            "__________________________________________________________________________________________________\n",
            "batch_normalization_42 (BatchNo (None, 9, 9, 728)    2912        conv2d_42[0][0]                  \n",
            "__________________________________________________________________________________________________\n",
            "add_122 (Add)                   (None, 9, 9, 728)    0           block4_pool[0][0]                \n",
            "                                                                 batch_normalization_42[0][0]     \n",
            "__________________________________________________________________________________________________\n",
            "block5_sepconv1_act (Activation (None, 9, 9, 728)    0           add_122[0][0]                    \n",
            "__________________________________________________________________________________________________\n",
            "block5_sepconv1 (SeparableConv2 (None, 9, 9, 728)    536536      block5_sepconv1_act[0][0]        \n",
            "__________________________________________________________________________________________________\n",
            "block5_sepconv1_bn (BatchNormal (None, 9, 9, 728)    2912        block5_sepconv1[0][0]            \n",
            "__________________________________________________________________________________________________\n",
            "block5_sepconv2_act (Activation (None, 9, 9, 728)    0           block5_sepconv1_bn[0][0]         \n",
            "__________________________________________________________________________________________________\n",
            "block5_sepconv2 (SeparableConv2 (None, 9, 9, 728)    536536      block5_sepconv2_act[0][0]        \n",
            "__________________________________________________________________________________________________\n",
            "block5_sepconv2_bn (BatchNormal (None, 9, 9, 728)    2912        block5_sepconv2[0][0]            \n",
            "__________________________________________________________________________________________________\n",
            "block5_sepconv3_act (Activation (None, 9, 9, 728)    0           block5_sepconv2_bn[0][0]         \n",
            "__________________________________________________________________________________________________\n",
            "block5_sepconv3 (SeparableConv2 (None, 9, 9, 728)    536536      block5_sepconv3_act[0][0]        \n",
            "__________________________________________________________________________________________________\n",
            "block5_sepconv3_bn (BatchNormal (None, 9, 9, 728)    2912        block5_sepconv3[0][0]            \n",
            "__________________________________________________________________________________________________\n",
            "add_123 (Add)                   (None, 9, 9, 728)    0           block5_sepconv3_bn[0][0]         \n",
            "                                                                 add_122[0][0]                    \n",
            "__________________________________________________________________________________________________\n",
            "block6_sepconv1_act (Activation (None, 9, 9, 728)    0           add_123[0][0]                    \n",
            "__________________________________________________________________________________________________\n",
            "block6_sepconv1 (SeparableConv2 (None, 9, 9, 728)    536536      block6_sepconv1_act[0][0]        \n",
            "__________________________________________________________________________________________________\n",
            "block6_sepconv1_bn (BatchNormal (None, 9, 9, 728)    2912        block6_sepconv1[0][0]            \n",
            "__________________________________________________________________________________________________\n",
            "block6_sepconv2_act (Activation (None, 9, 9, 728)    0           block6_sepconv1_bn[0][0]         \n",
            "__________________________________________________________________________________________________\n",
            "block6_sepconv2 (SeparableConv2 (None, 9, 9, 728)    536536      block6_sepconv2_act[0][0]        \n",
            "__________________________________________________________________________________________________\n",
            "block6_sepconv2_bn (BatchNormal (None, 9, 9, 728)    2912        block6_sepconv2[0][0]            \n",
            "__________________________________________________________________________________________________\n",
            "block6_sepconv3_act (Activation (None, 9, 9, 728)    0           block6_sepconv2_bn[0][0]         \n",
            "__________________________________________________________________________________________________\n",
            "block6_sepconv3 (SeparableConv2 (None, 9, 9, 728)    536536      block6_sepconv3_act[0][0]        \n",
            "__________________________________________________________________________________________________\n",
            "block6_sepconv3_bn (BatchNormal (None, 9, 9, 728)    2912        block6_sepconv3[0][0]            \n",
            "__________________________________________________________________________________________________\n",
            "add_124 (Add)                   (None, 9, 9, 728)    0           block6_sepconv3_bn[0][0]         \n",
            "                                                                 add_123[0][0]                    \n",
            "__________________________________________________________________________________________________\n",
            "block7_sepconv1_act (Activation (None, 9, 9, 728)    0           add_124[0][0]                    \n",
            "__________________________________________________________________________________________________\n",
            "block7_sepconv1 (SeparableConv2 (None, 9, 9, 728)    536536      block7_sepconv1_act[0][0]        \n",
            "__________________________________________________________________________________________________\n",
            "block7_sepconv1_bn (BatchNormal (None, 9, 9, 728)    2912        block7_sepconv1[0][0]            \n",
            "__________________________________________________________________________________________________\n",
            "block7_sepconv2_act (Activation (None, 9, 9, 728)    0           block7_sepconv1_bn[0][0]         \n",
            "__________________________________________________________________________________________________\n",
            "block7_sepconv2 (SeparableConv2 (None, 9, 9, 728)    536536      block7_sepconv2_act[0][0]        \n",
            "__________________________________________________________________________________________________\n",
            "block7_sepconv2_bn (BatchNormal (None, 9, 9, 728)    2912        block7_sepconv2[0][0]            \n",
            "__________________________________________________________________________________________________\n",
            "block7_sepconv3_act (Activation (None, 9, 9, 728)    0           block7_sepconv2_bn[0][0]         \n",
            "__________________________________________________________________________________________________\n",
            "block7_sepconv3 (SeparableConv2 (None, 9, 9, 728)    536536      block7_sepconv3_act[0][0]        \n",
            "__________________________________________________________________________________________________\n",
            "block7_sepconv3_bn (BatchNormal (None, 9, 9, 728)    2912        block7_sepconv3[0][0]            \n",
            "__________________________________________________________________________________________________\n",
            "add_125 (Add)                   (None, 9, 9, 728)    0           block7_sepconv3_bn[0][0]         \n",
            "                                                                 add_124[0][0]                    \n",
            "__________________________________________________________________________________________________\n",
            "block8_sepconv1_act (Activation (None, 9, 9, 728)    0           add_125[0][0]                    \n",
            "__________________________________________________________________________________________________\n",
            "block8_sepconv1 (SeparableConv2 (None, 9, 9, 728)    536536      block8_sepconv1_act[0][0]        \n",
            "__________________________________________________________________________________________________\n",
            "block8_sepconv1_bn (BatchNormal (None, 9, 9, 728)    2912        block8_sepconv1[0][0]            \n",
            "__________________________________________________________________________________________________\n",
            "block8_sepconv2_act (Activation (None, 9, 9, 728)    0           block8_sepconv1_bn[0][0]         \n",
            "__________________________________________________________________________________________________\n",
            "block8_sepconv2 (SeparableConv2 (None, 9, 9, 728)    536536      block8_sepconv2_act[0][0]        \n",
            "__________________________________________________________________________________________________\n",
            "block8_sepconv2_bn (BatchNormal (None, 9, 9, 728)    2912        block8_sepconv2[0][0]            \n",
            "__________________________________________________________________________________________________\n",
            "block8_sepconv3_act (Activation (None, 9, 9, 728)    0           block8_sepconv2_bn[0][0]         \n",
            "__________________________________________________________________________________________________\n",
            "block8_sepconv3 (SeparableConv2 (None, 9, 9, 728)    536536      block8_sepconv3_act[0][0]        \n",
            "__________________________________________________________________________________________________\n",
            "block8_sepconv3_bn (BatchNormal (None, 9, 9, 728)    2912        block8_sepconv3[0][0]            \n",
            "__________________________________________________________________________________________________\n",
            "add_126 (Add)                   (None, 9, 9, 728)    0           block8_sepconv3_bn[0][0]         \n",
            "                                                                 add_125[0][0]                    \n",
            "__________________________________________________________________________________________________\n",
            "block9_sepconv1_act (Activation (None, 9, 9, 728)    0           add_126[0][0]                    \n",
            "__________________________________________________________________________________________________\n",
            "block9_sepconv1 (SeparableConv2 (None, 9, 9, 728)    536536      block9_sepconv1_act[0][0]        \n",
            "__________________________________________________________________________________________________\n",
            "block9_sepconv1_bn (BatchNormal (None, 9, 9, 728)    2912        block9_sepconv1[0][0]            \n",
            "__________________________________________________________________________________________________\n",
            "block9_sepconv2_act (Activation (None, 9, 9, 728)    0           block9_sepconv1_bn[0][0]         \n",
            "__________________________________________________________________________________________________\n",
            "block9_sepconv2 (SeparableConv2 (None, 9, 9, 728)    536536      block9_sepconv2_act[0][0]        \n",
            "__________________________________________________________________________________________________\n",
            "block9_sepconv2_bn (BatchNormal (None, 9, 9, 728)    2912        block9_sepconv2[0][0]            \n",
            "__________________________________________________________________________________________________\n",
            "block9_sepconv3_act (Activation (None, 9, 9, 728)    0           block9_sepconv2_bn[0][0]         \n",
            "__________________________________________________________________________________________________\n",
            "block9_sepconv3 (SeparableConv2 (None, 9, 9, 728)    536536      block9_sepconv3_act[0][0]        \n",
            "__________________________________________________________________________________________________\n",
            "block9_sepconv3_bn (BatchNormal (None, 9, 9, 728)    2912        block9_sepconv3[0][0]            \n",
            "__________________________________________________________________________________________________\n",
            "add_127 (Add)                   (None, 9, 9, 728)    0           block9_sepconv3_bn[0][0]         \n",
            "                                                                 add_126[0][0]                    \n",
            "__________________________________________________________________________________________________\n",
            "block10_sepconv1_act (Activatio (None, 9, 9, 728)    0           add_127[0][0]                    \n",
            "__________________________________________________________________________________________________\n",
            "block10_sepconv1 (SeparableConv (None, 9, 9, 728)    536536      block10_sepconv1_act[0][0]       \n",
            "__________________________________________________________________________________________________\n",
            "block10_sepconv1_bn (BatchNorma (None, 9, 9, 728)    2912        block10_sepconv1[0][0]           \n",
            "__________________________________________________________________________________________________\n",
            "block10_sepconv2_act (Activatio (None, 9, 9, 728)    0           block10_sepconv1_bn[0][0]        \n",
            "__________________________________________________________________________________________________\n",
            "block10_sepconv2 (SeparableConv (None, 9, 9, 728)    536536      block10_sepconv2_act[0][0]       \n",
            "__________________________________________________________________________________________________\n",
            "block10_sepconv2_bn (BatchNorma (None, 9, 9, 728)    2912        block10_sepconv2[0][0]           \n",
            "__________________________________________________________________________________________________\n",
            "block10_sepconv3_act (Activatio (None, 9, 9, 728)    0           block10_sepconv2_bn[0][0]        \n",
            "__________________________________________________________________________________________________\n",
            "block10_sepconv3 (SeparableConv (None, 9, 9, 728)    536536      block10_sepconv3_act[0][0]       \n",
            "__________________________________________________________________________________________________\n",
            "block10_sepconv3_bn (BatchNorma (None, 9, 9, 728)    2912        block10_sepconv3[0][0]           \n",
            "__________________________________________________________________________________________________\n",
            "add_128 (Add)                   (None, 9, 9, 728)    0           block10_sepconv3_bn[0][0]        \n",
            "                                                                 add_127[0][0]                    \n",
            "__________________________________________________________________________________________________\n",
            "block11_sepconv1_act (Activatio (None, 9, 9, 728)    0           add_128[0][0]                    \n",
            "__________________________________________________________________________________________________\n",
            "block11_sepconv1 (SeparableConv (None, 9, 9, 728)    536536      block11_sepconv1_act[0][0]       \n",
            "__________________________________________________________________________________________________\n",
            "block11_sepconv1_bn (BatchNorma (None, 9, 9, 728)    2912        block11_sepconv1[0][0]           \n",
            "__________________________________________________________________________________________________\n",
            "block11_sepconv2_act (Activatio (None, 9, 9, 728)    0           block11_sepconv1_bn[0][0]        \n",
            "__________________________________________________________________________________________________\n",
            "block11_sepconv2 (SeparableConv (None, 9, 9, 728)    536536      block11_sepconv2_act[0][0]       \n",
            "__________________________________________________________________________________________________\n",
            "block11_sepconv2_bn (BatchNorma (None, 9, 9, 728)    2912        block11_sepconv2[0][0]           \n",
            "__________________________________________________________________________________________________\n",
            "block11_sepconv3_act (Activatio (None, 9, 9, 728)    0           block11_sepconv2_bn[0][0]        \n",
            "__________________________________________________________________________________________________\n",
            "block11_sepconv3 (SeparableConv (None, 9, 9, 728)    536536      block11_sepconv3_act[0][0]       \n",
            "__________________________________________________________________________________________________\n",
            "block11_sepconv3_bn (BatchNorma (None, 9, 9, 728)    2912        block11_sepconv3[0][0]           \n",
            "__________________________________________________________________________________________________\n",
            "add_129 (Add)                   (None, 9, 9, 728)    0           block11_sepconv3_bn[0][0]        \n",
            "                                                                 add_128[0][0]                    \n",
            "__________________________________________________________________________________________________\n",
            "block12_sepconv1_act (Activatio (None, 9, 9, 728)    0           add_129[0][0]                    \n",
            "__________________________________________________________________________________________________\n",
            "block12_sepconv1 (SeparableConv (None, 9, 9, 728)    536536      block12_sepconv1_act[0][0]       \n",
            "__________________________________________________________________________________________________\n",
            "block12_sepconv1_bn (BatchNorma (None, 9, 9, 728)    2912        block12_sepconv1[0][0]           \n",
            "__________________________________________________________________________________________________\n",
            "block12_sepconv2_act (Activatio (None, 9, 9, 728)    0           block12_sepconv1_bn[0][0]        \n",
            "__________________________________________________________________________________________________\n",
            "block12_sepconv2 (SeparableConv (None, 9, 9, 728)    536536      block12_sepconv2_act[0][0]       \n",
            "__________________________________________________________________________________________________\n",
            "block12_sepconv2_bn (BatchNorma (None, 9, 9, 728)    2912        block12_sepconv2[0][0]           \n",
            "__________________________________________________________________________________________________\n",
            "block12_sepconv3_act (Activatio (None, 9, 9, 728)    0           block12_sepconv2_bn[0][0]        \n",
            "__________________________________________________________________________________________________\n",
            "block12_sepconv3 (SeparableConv (None, 9, 9, 728)    536536      block12_sepconv3_act[0][0]       \n",
            "__________________________________________________________________________________________________\n",
            "block12_sepconv3_bn (BatchNorma (None, 9, 9, 728)    2912        block12_sepconv3[0][0]           \n",
            "__________________________________________________________________________________________________\n",
            "add_130 (Add)                   (None, 9, 9, 728)    0           block12_sepconv3_bn[0][0]        \n",
            "                                                                 add_129[0][0]                    \n",
            "__________________________________________________________________________________________________\n",
            "block13_sepconv1_act (Activatio (None, 9, 9, 728)    0           add_130[0][0]                    \n",
            "__________________________________________________________________________________________________\n",
            "block13_sepconv1 (SeparableConv (None, 9, 9, 728)    536536      block13_sepconv1_act[0][0]       \n",
            "__________________________________________________________________________________________________\n",
            "block13_sepconv1_bn (BatchNorma (None, 9, 9, 728)    2912        block13_sepconv1[0][0]           \n",
            "__________________________________________________________________________________________________\n",
            "block13_sepconv2_act (Activatio (None, 9, 9, 728)    0           block13_sepconv1_bn[0][0]        \n",
            "__________________________________________________________________________________________________\n",
            "block13_sepconv2 (SeparableConv (None, 9, 9, 1024)   752024      block13_sepconv2_act[0][0]       \n",
            "__________________________________________________________________________________________________\n",
            "block13_sepconv2_bn (BatchNorma (None, 9, 9, 1024)   4096        block13_sepconv2[0][0]           \n",
            "__________________________________________________________________________________________________\n",
            "conv2d_43 (Conv2D)              (None, 5, 5, 1024)   745472      add_130[0][0]                    \n",
            "__________________________________________________________________________________________________\n",
            "block13_pool (MaxPooling2D)     (None, 5, 5, 1024)   0           block13_sepconv2_bn[0][0]        \n",
            "__________________________________________________________________________________________________\n",
            "batch_normalization_43 (BatchNo (None, 5, 5, 1024)   4096        conv2d_43[0][0]                  \n",
            "__________________________________________________________________________________________________\n",
            "add_131 (Add)                   (None, 5, 5, 1024)   0           block13_pool[0][0]               \n",
            "                                                                 batch_normalization_43[0][0]     \n",
            "__________________________________________________________________________________________________\n",
            "block14_sepconv1 (SeparableConv (None, 5, 5, 1536)   1582080     add_131[0][0]                    \n",
            "__________________________________________________________________________________________________\n",
            "block14_sepconv1_bn (BatchNorma (None, 5, 5, 1536)   6144        block14_sepconv1[0][0]           \n",
            "__________________________________________________________________________________________________\n",
            "block14_sepconv1_act (Activatio (None, 5, 5, 1536)   0           block14_sepconv1_bn[0][0]        \n",
            "__________________________________________________________________________________________________\n",
            "block14_sepconv2 (SeparableConv (None, 5, 5, 2048)   3159552     block14_sepconv1_act[0][0]       \n",
            "__________________________________________________________________________________________________\n",
            "block14_sepconv2_bn (BatchNorma (None, 5, 5, 2048)   8192        block14_sepconv2[0][0]           \n",
            "__________________________________________________________________________________________________\n",
            "block14_sepconv2_act (Activatio (None, 5, 5, 2048)   0           block14_sepconv2_bn[0][0]        \n",
            "__________________________________________________________________________________________________\n",
            "flatten_3 (Flatten)             (None, 51200)        0           block14_sepconv2_act[0][0]       \n",
            "__________________________________________________________________________________________________\n",
            "dense_12 (Dense)                (None, 1024)         52429824    flatten_3[0][0]                  \n",
            "__________________________________________________________________________________________________\n",
            "dropout_9 (Dropout)             (None, 1024)         0           dense_12[0][0]                   \n",
            "__________________________________________________________________________________________________\n",
            "dense_13 (Dense)                (None, 256)          262400      dropout_9[0][0]                  \n",
            "__________________________________________________________________________________________________\n",
            "dropout_10 (Dropout)            (None, 256)          0           dense_13[0][0]                   \n",
            "__________________________________________________________________________________________________\n",
            "dense_14 (Dense)                (None, 64)           16448       dropout_10[0][0]                 \n",
            "__________________________________________________________________________________________________\n",
            "dropout_11 (Dropout)            (None, 64)           0           dense_14[0][0]                   \n",
            "__________________________________________________________________________________________________\n",
            "dense_15 (Dense)                (None, 3)            195         dropout_11[0][0]                 \n",
            "==================================================================================================\n",
            "Total params: 73,570,347\n",
            "Trainable params: 73,515,819\n",
            "Non-trainable params: 54,528\n",
            "__________________________________________________________________________________________________\n"
          ],
          "name": "stdout"
        },
        {
          "output_type": "stream",
          "text": [
            "/usr/local/lib/python3.7/dist-packages/tensorflow/python/keras/optimizer_v2/optimizer_v2.py:375: UserWarning: The `lr` argument is deprecated, use `learning_rate` instead.\n",
            "  \"The `lr` argument is deprecated, use `learning_rate` instead.\")\n"
          ],
          "name": "stderr"
        }
      ]
    },
    {
      "cell_type": "code",
      "metadata": {
        "colab": {
          "base_uri": "https://localhost:8080/"
        },
        "id": "r430Jvokywyk",
        "outputId": "0240e3cd-c91a-48b3-aa15-397003aeccd8"
      },
      "source": [
        "# Add our data-augmentation parameters to ImageDataGenerator\n",
        "train_datagen = ImageDataGenerator(rescale=1./255,\n",
        "                                   width_shift_range=0.2,\n",
        "                                   height_shift_range=0.2,\n",
        "                                   shear_range=0.2,\n",
        "                                   rotation_range=40,\n",
        "                                   zoom_range=0.2,\n",
        "                                   horizontal_flip=True,\n",
        "                                  )\n",
        "\n",
        "# Note that the validation data should not be augmented!\n",
        "valid_datagen = ImageDataGenerator(rescale=1./255)\n",
        "\n",
        "# Flow training images in batches of 20 using train_datagen generator\n",
        "train_generator = train_datagen.flow_from_directory(train_dir,\n",
        "                                                    batch_size=64,\n",
        "                                                    class_mode='binary',\n",
        "                                                    target_size=(150,150)\n",
        "                                                   )\n",
        "\n",
        "# Flow validation images in batches of 20 using test_datagen generator\n",
        "validation_generator =  valid_datagen.flow_from_directory(validation_dir,\n",
        "                                                    batch_size=64,\n",
        "                                                    class_mode='binary',\n",
        "                                                    target_size=(150,150)\n",
        "                                                   )"
      ],
      "execution_count": null,
      "outputs": [
        {
          "output_type": "stream",
          "text": [
            "Found 2000 images belonging to 3 classes.\n",
            "Found 150 images belonging to 3 classes.\n"
          ],
          "name": "stdout"
        }
      ]
    },
    {
      "cell_type": "code",
      "metadata": {
        "colab": {
          "base_uri": "https://localhost:8080/"
        },
        "id": "-B2dkZ2Ty3rs",
        "outputId": "983ae860-4411-45fe-83fb-1766c6e448a9"
      },
      "source": [
        "start_time = time.time()\n",
        "\n",
        "history = model.fit_generator(\n",
        "    train_generator,\n",
        "    epochs=50,\n",
        "    validation_data=validation_generator,\n",
        "    verbose=1\n",
        ")\n",
        "end_time = time.time()\n"
      ],
      "execution_count": null,
      "outputs": [
        {
          "output_type": "stream",
          "text": [
            "/usr/local/lib/python3.7/dist-packages/tensorflow/python/keras/engine/training.py:1940: UserWarning: `Model.fit_generator` is deprecated and will be removed in a future version. Please use `Model.fit`, which supports generators.\n",
            "  warnings.warn('`Model.fit_generator` is deprecated and '\n"
          ],
          "name": "stderr"
        },
        {
          "output_type": "stream",
          "text": [
            "Epoch 1/50\n",
            "32/32 [==============================] - 24s 576ms/step - loss: 1.1283 - acc: 0.5760 - val_loss: 1.2874 - val_acc: 0.5200\n",
            "Epoch 2/50\n",
            "32/32 [==============================] - 18s 546ms/step - loss: 0.9169 - acc: 0.6295 - val_loss: 1.2218 - val_acc: 0.5200\n",
            "Epoch 3/50\n",
            "32/32 [==============================] - 18s 556ms/step - loss: 0.8340 - acc: 0.6545 - val_loss: 1.0660 - val_acc: 0.5200\n",
            "Epoch 4/50\n",
            "32/32 [==============================] - 19s 577ms/step - loss: 0.7917 - acc: 0.6735 - val_loss: 1.1493 - val_acc: 0.5200\n",
            "Epoch 5/50\n",
            "32/32 [==============================] - 19s 568ms/step - loss: 0.7756 - acc: 0.6860 - val_loss: 0.9748 - val_acc: 0.5200\n",
            "Epoch 6/50\n",
            "32/32 [==============================] - 19s 574ms/step - loss: 0.7468 - acc: 0.6785 - val_loss: 0.8853 - val_acc: 0.5267\n",
            "Epoch 7/50\n",
            "32/32 [==============================] - 19s 570ms/step - loss: 0.7096 - acc: 0.6905 - val_loss: 0.9224 - val_acc: 0.5267\n",
            "Epoch 8/50\n",
            "32/32 [==============================] - 19s 571ms/step - loss: 0.7210 - acc: 0.6925 - val_loss: 0.8955 - val_acc: 0.5267\n",
            "Epoch 9/50\n",
            "32/32 [==============================] - 19s 584ms/step - loss: 0.6810 - acc: 0.6995 - val_loss: 0.9009 - val_acc: 0.5600\n",
            "Epoch 10/50\n",
            "32/32 [==============================] - 19s 579ms/step - loss: 0.6825 - acc: 0.7015 - val_loss: 0.8337 - val_acc: 0.6533\n",
            "Epoch 11/50\n",
            "32/32 [==============================] - 19s 583ms/step - loss: 0.6659 - acc: 0.7100 - val_loss: 0.8397 - val_acc: 0.6600\n",
            "Epoch 12/50\n",
            "32/32 [==============================] - 19s 585ms/step - loss: 0.6290 - acc: 0.7345 - val_loss: 0.8010 - val_acc: 0.6867\n",
            "Epoch 13/50\n",
            "32/32 [==============================] - 19s 586ms/step - loss: 0.6309 - acc: 0.7350 - val_loss: 0.7931 - val_acc: 0.6533\n",
            "Epoch 14/50\n",
            "32/32 [==============================] - 19s 586ms/step - loss: 0.5880 - acc: 0.7625 - val_loss: 0.7830 - val_acc: 0.6800\n",
            "Epoch 15/50\n",
            "32/32 [==============================] - 19s 590ms/step - loss: 0.5686 - acc: 0.7635 - val_loss: 0.7733 - val_acc: 0.6867\n",
            "Epoch 16/50\n",
            "32/32 [==============================] - 19s 592ms/step - loss: 0.5198 - acc: 0.7765 - val_loss: 0.7727 - val_acc: 0.6867\n",
            "Epoch 17/50\n",
            "32/32 [==============================] - 19s 591ms/step - loss: 0.5200 - acc: 0.7805 - val_loss: 0.7777 - val_acc: 0.7267\n",
            "Epoch 18/50\n",
            "32/32 [==============================] - 19s 587ms/step - loss: 0.4963 - acc: 0.7890 - val_loss: 0.7914 - val_acc: 0.7133\n",
            "Epoch 19/50\n",
            "32/32 [==============================] - 19s 602ms/step - loss: 0.4850 - acc: 0.7980 - val_loss: 0.9018 - val_acc: 0.7000\n",
            "Epoch 20/50\n",
            "32/32 [==============================] - 19s 591ms/step - loss: 0.4437 - acc: 0.8215 - val_loss: 0.9951 - val_acc: 0.7067\n",
            "Epoch 21/50\n",
            "32/32 [==============================] - 19s 589ms/step - loss: 0.4545 - acc: 0.8215 - val_loss: 0.8669 - val_acc: 0.7067\n",
            "Epoch 22/50\n",
            "32/32 [==============================] - 19s 588ms/step - loss: 0.4206 - acc: 0.8300 - val_loss: 1.1113 - val_acc: 0.7067\n",
            "Epoch 23/50\n",
            "32/32 [==============================] - 19s 586ms/step - loss: 0.4230 - acc: 0.8385 - val_loss: 1.0655 - val_acc: 0.7200\n",
            "Epoch 24/50\n",
            "32/32 [==============================] - 19s 590ms/step - loss: 0.3772 - acc: 0.8525 - val_loss: 1.1222 - val_acc: 0.6867\n",
            "Epoch 25/50\n",
            "32/32 [==============================] - 19s 592ms/step - loss: 0.3839 - acc: 0.8485 - val_loss: 1.1695 - val_acc: 0.7067\n",
            "Epoch 26/50\n",
            "32/32 [==============================] - 19s 588ms/step - loss: 0.3204 - acc: 0.8750 - val_loss: 1.3712 - val_acc: 0.7067\n",
            "Epoch 27/50\n",
            "32/32 [==============================] - 19s 589ms/step - loss: 0.3373 - acc: 0.8780 - val_loss: 1.3425 - val_acc: 0.7133\n",
            "Epoch 28/50\n",
            "32/32 [==============================] - 19s 588ms/step - loss: 0.2986 - acc: 0.8835 - val_loss: 1.3473 - val_acc: 0.7133\n",
            "Epoch 29/50\n",
            "32/32 [==============================] - 19s 587ms/step - loss: 0.2831 - acc: 0.8860 - val_loss: 1.1992 - val_acc: 0.7000\n",
            "Epoch 30/50\n",
            "32/32 [==============================] - 19s 585ms/step - loss: 0.2717 - acc: 0.9010 - val_loss: 1.1128 - val_acc: 0.7000\n",
            "Epoch 31/50\n",
            "32/32 [==============================] - 19s 592ms/step - loss: 0.2698 - acc: 0.8995 - val_loss: 1.1610 - val_acc: 0.7067\n",
            "Epoch 32/50\n",
            "32/32 [==============================] - 19s 590ms/step - loss: 0.2407 - acc: 0.9110 - val_loss: 1.2524 - val_acc: 0.7067\n",
            "Epoch 33/50\n",
            "32/32 [==============================] - 19s 589ms/step - loss: 0.2555 - acc: 0.9095 - val_loss: 1.2613 - val_acc: 0.7133\n",
            "Epoch 34/50\n",
            "32/32 [==============================] - 19s 606ms/step - loss: 0.2554 - acc: 0.9060 - val_loss: 1.0763 - val_acc: 0.6867\n",
            "Epoch 35/50\n",
            "32/32 [==============================] - 19s 592ms/step - loss: 0.2072 - acc: 0.9290 - val_loss: 1.3076 - val_acc: 0.7400\n",
            "Epoch 36/50\n",
            "32/32 [==============================] - 19s 587ms/step - loss: 0.2192 - acc: 0.9185 - val_loss: 1.4184 - val_acc: 0.7333\n",
            "Epoch 37/50\n",
            "32/32 [==============================] - 19s 588ms/step - loss: 0.1756 - acc: 0.9445 - val_loss: 1.4714 - val_acc: 0.7000\n",
            "Epoch 38/50\n",
            "32/32 [==============================] - 19s 587ms/step - loss: 0.1790 - acc: 0.9410 - val_loss: 1.4254 - val_acc: 0.7200\n",
            "Epoch 39/50\n",
            "32/32 [==============================] - 19s 594ms/step - loss: 0.1818 - acc: 0.9360 - val_loss: 1.7876 - val_acc: 0.7400\n",
            "Epoch 40/50\n",
            "32/32 [==============================] - 19s 589ms/step - loss: 0.1774 - acc: 0.9385 - val_loss: 1.3551 - val_acc: 0.7133\n",
            "Epoch 41/50\n",
            "32/32 [==============================] - 19s 588ms/step - loss: 0.1575 - acc: 0.9415 - val_loss: 1.6219 - val_acc: 0.7133\n",
            "Epoch 42/50\n",
            "32/32 [==============================] - 19s 585ms/step - loss: 0.1696 - acc: 0.9430 - val_loss: 1.7186 - val_acc: 0.7067\n",
            "Epoch 43/50\n",
            "32/32 [==============================] - 19s 587ms/step - loss: 0.1545 - acc: 0.9530 - val_loss: 1.5520 - val_acc: 0.7000\n",
            "Epoch 44/50\n",
            "32/32 [==============================] - 19s 587ms/step - loss: 0.1447 - acc: 0.9510 - val_loss: 1.8670 - val_acc: 0.6800\n",
            "Epoch 45/50\n",
            "32/32 [==============================] - 19s 586ms/step - loss: 0.1239 - acc: 0.9620 - val_loss: 1.7385 - val_acc: 0.7000\n",
            "Epoch 46/50\n",
            "32/32 [==============================] - 19s 589ms/step - loss: 0.1188 - acc: 0.9595 - val_loss: 1.8940 - val_acc: 0.6667\n",
            "Epoch 47/50\n",
            "32/32 [==============================] - 19s 588ms/step - loss: 0.1134 - acc: 0.9640 - val_loss: 1.7121 - val_acc: 0.7200\n",
            "Epoch 48/50\n",
            "32/32 [==============================] - 19s 588ms/step - loss: 0.0970 - acc: 0.9670 - val_loss: 1.7748 - val_acc: 0.7200\n",
            "Epoch 49/50\n",
            "32/32 [==============================] - 19s 585ms/step - loss: 0.1260 - acc: 0.9610 - val_loss: 1.6009 - val_acc: 0.7067\n",
            "Epoch 50/50\n",
            "32/32 [==============================] - 19s 588ms/step - loss: 0.1249 - acc: 0.9585 - val_loss: 1.6071 - val_acc: 0.7000\n"
          ],
          "name": "stdout"
        }
      ]
    },
    {
      "cell_type": "code",
      "metadata": {
        "colab": {
          "base_uri": "https://localhost:8080/",
          "height": 545
        },
        "id": "bOMFyP-Ay61w",
        "outputId": "33873d9a-1762-454d-f220-6b47705ba2c1"
      },
      "source": [
        "\n",
        "time_taken = end_time - start_time\n",
        "\n",
        "acc = history.history['acc']\n",
        "val_acc = history.history['val_acc']\n",
        "loss = history.history['loss']\n",
        "val_loss = history.history['val_loss']\n",
        "\n",
        "epochs = range(len(acc))\n",
        "\n",
        "plt.plot(epochs, acc, 'r', label='Training accuracy')\n",
        "plt.plot(epochs, val_acc, 'b', label='Validation accuracy')\n",
        "plt.title('Training and validation accuracy and the taken time in training is: ' + str(int(time_taken)) + \"seconds for \" +str(epochs) + \" epochs\" )\n",
        "plt.legend(loc=0)\n",
        "plt.show()\n",
        "\n",
        "plt.plot(epochs, loss, 'r', label='Training loss')\n",
        "plt.plot(epochs, val_loss, 'b', label='Validation loss')\n",
        "plt.title('Training and validation accuracy and the taken time in training is: ' + str(int(time_taken)) + \"seconds for \" +str(epochs) + \" epochs\" )\n",
        "plt.legend(loc=0)\n",
        "plt.show()"
      ],
      "execution_count": null,
      "outputs": [
        {
          "output_type": "display_data",
          "data": {
            "image/png": "[encoded data removed]",
            "text/plain": [
              "<Figure size 432x288 with 1 Axes>"
            ]
          },
          "metadata": {
            "tags": [],
            "needs_background": "light"
          }
        },
        {
          "output_type": "display_data",
          "data": {
            "image/png": "[encoded data removed]",
            "text/plain": [
              "<Figure size 432x288 with 1 Axes>"
            ]
          },
          "metadata": {
            "tags": [],
            "needs_background": "light"
          }
        }
      ]
    },
    {
      "cell_type": "code",
      "metadata": {
        "colab": {
          "base_uri": "https://localhost:8080/"
        },
        "id": "2i_mZYtD4jpn",
        "outputId": "1325a818-12e6-4c30-98a0-3fb046079213"
      },
      "source": [
        "export_path_sm = \"./models/{}.h5\".format(\"skin_cancer_using_inception_v3_weights\")\n",
        "print(export_path_sm)\n",
        "tf.saved_model.save(model, export_path_sm)"
      ],
      "execution_count": null,
      "outputs": [
        {
          "output_type": "stream",
          "text": [
            "./models/skin_cancer_using_inception_v3_weights.h5\n"
          ],
          "name": "stdout"
        },
        {
          "output_type": "stream",
          "text": [
            "/usr/local/lib/python3.7/dist-packages/tensorflow/python/keras/utils/generic_utils.py:497: CustomMaskWarning: Custom mask layers require a config and must override get_config. When loading, the custom mask layer must be passed to the custom_objects argument.\n",
            "  category=CustomMaskWarning)\n"
          ],
          "name": "stderr"
        },
        {
          "output_type": "stream",
          "text": [
            "WARNING:tensorflow:FOR KERAS USERS: The object that you are saving contains one or more Keras models or layers. If you are loading the SavedModel with `tf.keras.models.load_model`, continue reading (otherwise, you may ignore the following instructions). Please change your code to save with `tf.keras.models.save_model` or `model.save`, and confirm that the file \"keras.metadata\" exists in the export directory. In the future, Keras will only load the SavedModels that have this file. In other words, `tf.saved_model.save` will no longer write SavedModels that can be recovered as Keras models (this will apply in TF 2.5).\n",
            "\n",
            "FOR DEVS: If you are overwriting _tracking_metadata in your class, this property has been used to save metadata in the SavedModel. The metadta field will be deprecated soon, so please move the metadata to a different file.\n",
            "INFO:tensorflow:Assets written to: ./models/skin_cancer_using_inception_v3_weights.h5/assets\n"
          ],
          "name": "stdout"
        }
      ]
    },
    {
      "cell_type": "code",
      "metadata": {
        "colab": {
          "base_uri": "https://localhost:8080/",
          "height": 136
        },
        "id": "HGlbApnP9gRP",
        "outputId": "9466c3af-65c6-4a76-f21b-dc36adf7ceb2"
      },
      "source": [
        "# from google.colab import files\n",
        "# files.download(\"/content/models\")\n",
        "\n",
        "!zip -r '/content/models.zip' '/content/models/'\n",
        "\n",
        "from google.colab import files\n",
        "\n",
        "files.download(\"/content/models.zip\")"
      ],
      "execution_count": null,
      "outputs": [
        {
          "output_type": "stream",
          "text": [
            "  adding: content/models/ (stored 0%)\n",
            "  adding: content/models/skin_cancer_using_inception_v3_weights.h5/ (stored 0%)\n",
            "  adding: content/models/skin_cancer_using_inception_v3_weights.h5/variables/ (stored 0%)\n",
            "  adding: content/models/skin_cancer_using_inception_v3_weights.h5/variables/variables.index (deflated 80%)\n",
            "  adding: content/models/skin_cancer_using_inception_v3_weights.h5/variables/variables.data-00000-of-00001 (deflated 7%)\n",
            "  adding: content/models/skin_cancer_using_inception_v3_weights.h5/assets/ (stored 0%)\n",
            "  adding: content/models/skin_cancer_using_inception_v3_weights.h5/saved_model.pb (deflated 93%)\n"
          ],
          "name": "stdout"
        },
        {
          "output_type": "display_data",
          "data": {
            "application/javascript": [
              "\n",
              "    async function download(id, filename, size) {\n",
              "      if (!google.colab.kernel.accessAllowed) {\n",
              "        return;\n",
              "      }\n",
              "      const div = document.createElement('div');\n",
              "      const label = document.createElement('label');\n",
              "      label.textContent = `Downloading \"${filename}\": `;\n",
              "      div.appendChild(label);\n",
              "      const progress = document.createElement('progress');\n",
              "      progress.max = size;\n",
              "      div.appendChild(progress);\n",
              "      document.body.appendChild(div);\n",
              "\n",
              "      const buffers = [];\n",
              "      let downloaded = 0;\n",
              "\n",
              "      const channel = await google.colab.kernel.comms.open(id);\n",
              "      // Send a message to notify the kernel that we're ready.\n",
              "      channel.send({})\n",
              "\n",
              "      for await (const message of channel.messages) {\n",
              "        // Send a message to notify the kernel that we're ready.\n",
              "        channel.send({})\n",
              "        if (message.buffers) {\n",
              "          for (const buffer of message.buffers) {\n",
              "            buffers.push(buffer);\n",
              "            downloaded += buffer.byteLength;\n",
              "            progress.value = downloaded;\n",
              "          }\n",
              "        }\n",
              "      }\n",
              "      const blob = new Blob(buffers, {type: 'application/binary'});\n",
              "      const a = document.createElement('a');\n",
              "      a.href = window.URL.createObjectURL(blob);\n",
              "      a.download = filename;\n",
              "      div.appendChild(a);\n",
              "      a.click();\n",
              "      div.remove();\n",
              "    }\n",
              "  "
            ],
            "text/plain": [
              "<IPython.core.display.Javascript object>"
            ]
          },
          "metadata": {
            "tags": []
          }
        },
        {
          "output_type": "display_data",
          "data": {
            "application/javascript": [
              "download(\"download_5924dd3f-6271-4101-aa08-f00d35e0ebc5\", \"models.zip\", 819083718)"
            ],
            "text/plain": [
              "<IPython.core.display.Javascript object>"
            ]
          },
          "metadata": {
            "tags": []
          }
        }
      ]
    }
  ]
}